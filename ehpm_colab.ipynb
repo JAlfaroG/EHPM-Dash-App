{
  "nbformat": 4,
  "nbformat_minor": 0,
  "metadata": {
    "colab": {
      "name": "ehpm_colab.ipynb",
      "provenance": [],
      "toc_visible": true,
      "authorship_tag": "ABX9TyO4mqw4xr1fd/JGkRhaxStP",
      "include_colab_link": true
    },
    "kernelspec": {
      "name": "python3",
      "display_name": "Python 3"
    }
  },
  "cells": [
    {
      "cell_type": "markdown",
      "metadata": {
        "id": "view-in-github",
        "colab_type": "text"
      },
      "source": [
        "<a href=\"https://colab.research.google.com/github/JAlfaroG/EHPM-Dash-App/blob/master/ehpm_colab.ipynb\" target=\"_parent\"><img src=\"https://colab.research.google.com/assets/colab-badge.svg\" alt=\"Open In Colab\"/></a>"
      ]
    },
    {
      "cell_type": "markdown",
      "metadata": {
        "id": "Pe7f48JSzL_2",
        "colab_type": "text"
      },
      "source": [
        "### Introduction\n",
        "\n",
        "In El Salvador, the Encuesta de Hogares de Propósitos Múltiples (EHPM) is created by the Ministry of Economy through the General Direction of Statistics and Censuses (DIGESTYC). The former is a statistical instrument to provide information on the socioeconomic situation of Salvadoran households, which allows organizing and implementing public policy actions in favor of the country's development and, on the other hand, facilitating the monitoring of the effects produced by social policy measures."
      ]
    },
    {
      "cell_type": "markdown",
      "metadata": {
        "id": "zXtD_-Fi2rw1",
        "colab_type": "text"
      },
      "source": [
        "### Country Survey Visualization\n",
        "\n",
        "Now we will build a simple Dash App to visualize some variables of the EHPM. It is important to note that this survey is a sample, so these results are not generalizable to the whole country unless frequency weights are applied to the data. "
      ]
    },
    {
      "cell_type": "markdown",
      "metadata": {
        "id": "7xSsX5Cr3rlM",
        "colab_type": "text"
      },
      "source": [
        "### Preparing the data\n",
        "\n",
        "We will be merging the 2019 EHPM dataset and a shapefile for the country boundaries, the latter can be downloaded with this link: \n",
        "\n",
        "https://data.humdata.org/dataset/el-salvador-administrative-level-0-1-and-2-boundaries"
      ]
    },
    {
      "cell_type": "code",
      "metadata": {
        "id": "GYvqcstx5vaj",
        "colab_type": "code",
        "colab": {}
      },
      "source": [
        "# Requirements\n",
        "%pip install dash\n",
        "%pip install geopandas\n",
        "%pip install plotly\n",
        "%pip install pyreadstat\n",
        "%pip install geofeather\n"
      ],
      "execution_count": 0,
      "outputs": []
    },
    {
      "cell_type": "code",
      "metadata": {
        "id": "Kgi1x_Ft4-mX",
        "colab_type": "code",
        "colab": {}
      },
      "source": [
        "import pandas as pd\n",
        "import geopandas as gpd\n",
        "import geofeather as gf\n",
        "import json\n",
        "\n",
        "ehpm_data = pd.read_spss('/content/drive/My Drive/EHPM/EHPM 2019.sav')\n",
        "\n",
        "map_shape = gpd.read_file('/content/drive/My Drive/EHPM/SLV_adm2.shp')\n",
        "map_shape.columns = map(str.lower, map_shape.columns)\n",
        "map_shape['codigomunic'] = map_shape.name_2\n",
        "map_shape['depto'] = map_shape.name_1   \n",
        "\n",
        "# Preparing final dataset and selecting specific variables\n",
        "ehpm_merged = ehpm_data.merge(map_shape, how='inner', on='codigomunic')\n",
        "ehpm_merged = ehpm_merged[['aproba1', 'r104', 'ingre', 'pobreza', 'segm', 'r106', 'r107', 'ingfa', 'gastohog', 'codigomunic', 'depto','geometry']]\n",
        "\n",
        "gdf = gpd.GeoDataFrame(ehpm_merged, geometry='geometry')\n",
        "gdf.crs = \"EPSG:4326\" \n",
        "gf.to_geofeather(gdf, '/content/ehpm19_merged.feather')\n",
        "\n",
        "# Preparing geojson\n",
        "map_shape.to_file(\"/content/esa.json\", driver = \"GeoJSON\")"
      ],
      "execution_count": 0,
      "outputs": []
    },
    {
      "cell_type": "markdown",
      "metadata": {
        "id": "Yko1SelT7Raz",
        "colab_type": "text"
      },
      "source": [
        "### Creating the app"
      ]
    },
    {
      "cell_type": "code",
      "metadata": {
        "id": "bF_MUdM1yOCh",
        "colab_type": "code",
        "colab": {}
      },
      "source": [
        "%%writefile ehpm.py\n",
        "\n",
        "import pandas as pd\n",
        "import geopandas as gpd\n",
        "import geofeather as gf\n",
        "import numpy as np\n",
        "import os\n",
        "import copy\n",
        "import base64\n",
        "import json\n",
        "import dash\n",
        "from dash.dependencies import Input, Output, State\n",
        "import dash_core_components as dcc\n",
        "import dash_html_components as html\n",
        "import dash_table\n",
        "import plotly\n",
        "import plotly.express as px\n",
        "from flask import Flask\n",
        "\n",
        "# API keys and datasets\n",
        "mb_token = 'pk.eyJ1IjoiamF2aS1hbGZhcm8iLCJhIjoiY2tiMnR0cm5zMDBoejJ4cWNxb3Bzcno5aiJ9.Zh0OEJmyiH27YG4Yw_KLyg'\n",
        "\n",
        "gdf = gf.from_geofeather('/content/ehpm19_merged.feather')\n",
        "gdf.crs = \"EPSG:4326\" \n",
        "map_data = gdf.copy()\n",
        "map_data[\"lon\"] = gdf.centroid.x\n",
        "map_data[\"lat\"] = gdf.centroid.y\n",
        "\n",
        "del gdf\n",
        "\n",
        "with open('/content/esa.json') as response:\n",
        "    esa_geoj = json.load(response)\n",
        "\n",
        "px.set_mapbox_access_token(mb_token)\n",
        "\n",
        "fig1 = px.choropleth_mapbox(map_data, geojson=esa_geoj, \n",
        "                    locations='codigomunic', featureidkey = \"properties.codigomunic\" ,\n",
        "                    color='aproba1', \n",
        "                    color_continuous_scale=px.colors.sequential.RdBu,\n",
        "                    range_color=(map_data.aproba1.min(), map_data.aproba1.max()),\n",
        "                    labels={'aproba1':'Años aprobados'},\n",
        "                    center={\"lat\": map_data.lat.mean(), \"lon\": map_data.lon.mean()},\n",
        "                    zoom=7 #mapbox_style=\"streets\"\n",
        "                    )\n",
        "fig1.update_layout(margin={\"r\":0,\"t\":0,\"l\":0,\"b\":0})\n",
        "\n",
        "external_stylesheets = ['https://codepen.io/amyoshino/pen/jzXypZ.css']\n",
        "app = dash.Dash(__name__, external_stylesheets=external_stylesheets)\n",
        "app.title = 'EHPM'\n",
        "\n",
        "image_filename = \"/content/drive/My Drive/EHPM/ehpm.png\" # replace with your own image\n",
        "encoded_image = base64.b64encode(open(image_filename, 'rb').read())\n",
        "\n",
        "#temp = map_data.loc[:, map_data.columns.isin(['aproba1', 'r104', 'ingre', 'pobreza', 'segm', 'r106', 'r107', 'ingfa', 'gastohog'])]\n",
        "temp = {i for i in map_data[['aproba1', 'r104', 'ingre', 'pobreza', 'segm', 'r106', 'r107', 'ingfa', 'gastohog']].columns}\n",
        "#all_options = temp.to_dict('records')[0]\n",
        "\n",
        "#temp2 = map_data.loc[:, map_data.columns.isin(['aproba1', 'ingre', 'r106', 'ingfa', 'gastohog'])]\n",
        "temp2 = {i for i in map_data[['aproba1', 'ingre', 'r106', 'ingfa', 'gastohog']].columns}\n",
        "#numeric_options = temp2.to_dict('records')[0]\n",
        "\n",
        "#temp3 = map_data.loc[:, map_data.columns.isin(['aproba1', 'ingre', 'r106', 'ingfa', 'gastohog','codigomunic'])].sample(frac=0.25)\n",
        "temp3 = map_data[['aproba1', 'r104', 'ingre', 'pobreza', 'segm', 'r106', 'r107', 'ingfa', 'gastohog', 'depto', 'codigomunic']]\n",
        "\n",
        "app.layout = html.Div(\n",
        "    html.Div(\n",
        "        [\n",
        "         html.Div(\n",
        "             [\n",
        "              html.H1(children='EHPM 2019',\n",
        "                      className='nine columns'),\n",
        "                html.Img(\n",
        "                    src='data:image/png;base64,{}'.format(encoded_image.decode()),\n",
        "                    className='three columns',\n",
        "                    style={\n",
        "                        'height': '30%',\n",
        "                        'width': '30%',\n",
        "                        'float': 'right',\n",
        "                        'position': 'relative',\n",
        "                        'margin-top': 10,\n",
        "                    },\n",
        "                ),\n",
        "              html.Div(children='''Visualización básica de variables.''',\n",
        "                       className='nine columns'\n",
        "                       )\n",
        "              ], className=\"row\"\n",
        "              ),\n",
        "\n",
        "        html.Div([\n",
        "                  html.Div([\n",
        "                            html.P('Elija la variable para el mapa:'),\n",
        "                            dcc.RadioItems(\n",
        "                                id = 'vars',\n",
        "                                options=[{'label': k, 'value': k} for k in temp],\n",
        "                                value='aproba1',\n",
        "                                labelStyle={'display': 'inline-block'}\n",
        "                                ),\n",
        "                            ], \n",
        "                           className='seven columns', \n",
        "                           style={'margin-top': '10'}\n",
        "                  ),\n",
        "              \n",
        "                # hist\n",
        "                ],\n",
        "                 className=\"row\"\n",
        "                 ),\n",
        "\n",
        "        html.Div([\n",
        "                  html.Div([\n",
        "                            dcc.Graph(\n",
        "                                id='map',\n",
        "                                figure=fig1\n",
        "                                )\n",
        "                            ], className= 'twelve columns'\n",
        "                  ),\n",
        "            # html.Div(\n",
        "            #         [\n",
        "            #          dash_table.DataTable(\n",
        "            #              id='datatable',\n",
        "            #              columns=[{\"name\": i, \"id\": i} for i in sorted(temp.columns)],\n",
        "            #                       page_current=0,\n",
        "            #                       page_size=10,\n",
        "            #                       page_action=\"custom\"\n",
        "            #                       )\n",
        "            #          ],\n",
        "            #          className=\"six columns\"\n",
        "            #          ),\n",
        "        \n",
        "        html.Div([\n",
        "                  html.P('Variable para histograma'),\n",
        "                  dcc.RadioItems(\n",
        "                      id='numvars',\n",
        "                      options=[{'label': k, 'value': k} for k in temp2],\n",
        "                      value='aproba1',\n",
        "                      labelStyle={'display': 'inline-block'}\n",
        "                      ),\n",
        "                  ],\n",
        "                 className='six columns',\n",
        "                 style={'margin-top': '10'}\n",
        "                 ),\n",
        "\n",
        "             html.Div([\n",
        "                       dash_table.DataTable(\n",
        "                           id='datatable',\n",
        "                           columns=[{\"name\": i, \"id\": i, \"deletable\":True, \"selectable\":True} for i in temp3.columns],\n",
        "                           page_current=0,\n",
        "                           page_size=10,\n",
        "                           page_action=\"native\",\n",
        "                           data=temp3.to_dict('records'),\n",
        "                           filter_action=\"native\",\n",
        "                           selected_rows=[],\n",
        "                           selected_columns=[]\n",
        "                           ),\n",
        "                           html.Div(id='datatable-interactivity-container')\n",
        "                       ], className= 'twelve columns'\n",
        "                       ),\n",
        "             \n",
        "             html.Div([\n",
        "                       html.P('JA - ', style = {'display': 'inline'}),\n",
        "                       html.A('javi.alfaro94@gmail.com', href = 'mailto:javi.alfaro94@gmail.com')\n",
        "                       ],\n",
        "                      className = \"twelve columns\",\n",
        "                      style = {'fontSize': 18, 'padding-top': 20}\n",
        "                      )\n",
        "             ],\n",
        "             className=\"row\"\n",
        "             )\n",
        "        ],\n",
        "        className='ten columns offset-by-one')\n",
        "    )\n",
        " \n",
        "@app.callback(\n",
        "    Output('map', 'figure'),\n",
        "    [Input('vars', 'value')]\n",
        "    )\n",
        "def update_map(variable):\n",
        "\n",
        "  gdff = map_data.copy()\n",
        "  if variable in ['aproba1', 'ingre', 'r106', 'ingfa', 'gastohog']:\n",
        "    fig = px.choropleth_mapbox(gdff, geojson=esa_geoj, \n",
        "                      locations='codigomunic', featureidkey = \"properties.codigomunic\" ,\n",
        "                      color=variable, \n",
        "                      color_continuous_scale=px.colors.sequential.RdBu,\n",
        "                      range_color=(gdff[variable].min(), gdff[variable].max()),\n",
        "                      labels={variable},\n",
        "                      center={\"lat\": gdff.lat.mean(), \"lon\": gdff.lon.mean()},\n",
        "                      zoom = 7 #mapbox_style=\"streets\"\n",
        "                      )\n",
        "    fig.update_layout(margin={\"r\":0,\"t\":0,\"l\":0,\"b\":0})\n",
        "\n",
        "  elif variable in ['segm', 'r107']:\n",
        "    fig = px.choropleth_mapbox(gdff.dropna(subset=['segm', 'r107']), geojson=esa_geoj, \n",
        "                      locations='codigomunic', featureidkey = \"properties.codigomunic\" ,\n",
        "                      color=variable,\n",
        "                      color_discrete_sequence=px.colors.sequential.RdBu, \n",
        "                      labels={variable},\n",
        "                      center={\"lat\": gdff.lat.mean(), \"lon\": gdff.lon.mean()},\n",
        "                      zoom = 7 #mapbox_style=\"streets\"\n",
        "                      )\n",
        "    fig.update_layout(margin={\"r\":0,\"t\":0,\"l\":0,\"b\":0})\n",
        "  \n",
        "  else:\n",
        "      fig = px.choropleth_mapbox(gdff, geojson=esa_geoj, \n",
        "                        locations='codigomunic', featureidkey = \"properties.codigomunic\" ,\n",
        "                        color=variable,\n",
        "                        color_discrete_sequence=px.colors.sequential.RdBu, \n",
        "                        labels={variable},\n",
        "                        center={\"lat\": gdff.lat.mean(), \"lon\": gdff.lon.mean()},\n",
        "                        zoom = 7 #mapbox_style=\"streets\"\n",
        "                        )\n",
        "      fig.update_layout(margin={\"r\":0,\"t\":0,\"l\":0,\"b\":0})\n",
        "\n",
        "  return fig\n",
        "\n",
        "# @app.callback(\n",
        "#     Output('bar', 'figure'),\n",
        "#     [Input('numvars', 'value')]\n",
        "#     )\n",
        "# def update_figure(value):\n",
        "#     gdff = map_data.copy()\n",
        "\n",
        "#     fig = px.histogram(gdff, x=value, color=\"r104\", marginal='violin')\n",
        "\n",
        "#     return fig\n",
        "\n",
        "\n",
        "# @app.callback(\n",
        "#     Output('datatable', 'data'),\n",
        "#     [Input('datatable', \"page_current\"),\n",
        "#      Input('datatable', \"page_size\")])\n",
        "# def update_table(page_current, page_size):\n",
        "#     return temp.iloc[page_current*page_size:(page_current+ 1)*page_size].to_dict('records')\n",
        "\n",
        "@app.callback(\n",
        "    Output('datatable', 'style_data_conditional'),\n",
        "    [Input('datatable', 'selected_columns')]\n",
        ")\n",
        "def update_styles(selected_columns):\n",
        "    return [{'if': { 'column_id': i }, 'background_color': '#D2F3FF'} for i in selected_columns]\n",
        "\n",
        "@app.callback(\n",
        "    Output('datatable-interactivity-container', \"children\"),\n",
        "    [Input('datatable', \"derived_virtual_data\"),\n",
        "     Input('datatable', \"derived_virtual_selected_rows\")])\n",
        "def update_graphs(rows, derived_virtual_selected_rows):\n",
        "    # When the table is first rendered, `derived_virtual_data` and\n",
        "    # `derived_virtual_selected_rows` will be `None`. This is due to an\n",
        "    # idiosyncracy in Dash (unsupplied properties are always None and Dash\n",
        "    # calls the dependent callbacks when the component is first rendered).\n",
        "    # So, if `rows` is `None`, then the component was just rendered\n",
        "    # and its value will be the same as the component's dataframe.\n",
        "    # Instead of setting `None` in here, you could also set\n",
        "    # `derived_virtual_data=df.to_rows('dict')` when you initialize\n",
        "    # the component.\n",
        "    if derived_virtual_selected_rows is None:\n",
        "        derived_virtual_selected_rows = []\n",
        "\n",
        "    dff = temp3 if rows is None else pd.DataFrame(rows)\n",
        "\n",
        "    colors = ['#7FDBFF' if i in derived_virtual_selected_rows else '#0074D9' for i in range(len(dff))]\n",
        "    \n",
        "    gdff = temp3.copy()\n",
        "\n",
        "    return [\n",
        "        dcc.Graph(\n",
        "            id=column,\n",
        "            figure=px.histogram(gdff, x=\"depto\", y=column, \n",
        "                          title=None,\n",
        "                           color='r104',\n",
        "                           histfunc='count',\n",
        "                           histnorm='percent',\n",
        "                           cumulative=False,\n",
        "                           color_discrete_sequence=['#879ea6', '#404352']\n",
        "                          ),\n",
        "        )\n",
        "\n",
        "        for column in ['aproba1', 'ingre', 'r106', 'ingfa', 'gastohog'] #if column in dff\n",
        "    ]\n",
        "\n",
        "if __name__ == '__main__':\n",
        "    app.run_server(debug=True)\n"
      ],
      "execution_count": 0,
      "outputs": []
    },
    {
      "cell_type": "markdown",
      "metadata": {
        "id": "FIAMfqp07WWI",
        "colab_type": "text"
      },
      "source": [
        "### Running the app\n",
        "\n",
        "We will be using Ngrok for deployment, it is recommended to use a free key to have more connections available and stability."
      ]
    },
    {
      "cell_type": "code",
      "metadata": {
        "id": "uclxBpjg2pY4",
        "colab_type": "code",
        "colab": {}
      },
      "source": [
        "# Install ngrok\n",
        "!wget -q -c -nc https://bin.equinox.io/c/4VmDzA7iaHb/ngrok-stable-linux-amd64.zip\n",
        "!unzip -qq -n ngrok-stable-linux-amd64.zip"
      ],
      "execution_count": 0,
      "outputs": []
    },
    {
      "cell_type": "code",
      "metadata": {
        "id": "ku3zG4N32o85",
        "colab_type": "code",
        "colab": {}
      },
      "source": [
        "# Ask token\n",
        "print(\"Get your authtoken from https://dashboard.ngrok.com/auth\")\n",
        "import getpass\n",
        "\n",
        "#1bBawpcvRV12hRI4XisHek3Gkjx_HoSfS91bixeD8SKsAqPW\n",
        "authtoken = getpass.getpass()"
      ],
      "execution_count": 0,
      "outputs": []
    },
    {
      "cell_type": "code",
      "metadata": {
        "id": "3RHZ-Yel72_d",
        "colab_type": "code",
        "colab": {}
      },
      "source": [
        "# Run ngrok to tunnel Dash app port 8050 to the outside world. \n",
        "# This command runs in the background.\n",
        "get_ipython().system_raw('./ngrok authtoken $authtoken && ./ngrok http 8050 &')"
      ],
      "execution_count": 0,
      "outputs": []
    },
    {
      "cell_type": "code",
      "metadata": {
        "id": "_iPeImhX7-QW",
        "colab_type": "code",
        "colab": {}
      },
      "source": [
        "!python ehpm.py"
      ],
      "execution_count": 0,
      "outputs": []
    },
    {
      "cell_type": "code",
      "metadata": {
        "id": "jDC9KZVG7521",
        "colab_type": "code",
        "colab": {}
      },
      "source": [
        "%%sh\n",
        "# Get public url with ngrok, click this link after the app is running!\n",
        "curl -s http://localhost:4040/api/tunnels | python3 -c \"import sys, json; print(json.load(sys.stdin)['tunnels'][0]['public_url'])\""
      ],
      "execution_count": 0,
      "outputs": []
    },
    {
      "cell_type": "markdown",
      "metadata": {
        "id": "AB4g5xm69D7_",
        "colab_type": "text"
      },
      "source": [
        "Thanks to Adriano Yoshino, who inspired the idea, check his amazing application with the link below:\n",
        "\n",
        "https://medium.com/a-r-g-o/using-plotlys-dash-to-deliver-public-sector-decision-support-dashboards-ac863fa829fb\n",
        "\n",
        "And thanks to my friends Erick Barrios and David Cornejo for the support."
      ]
    },
    {
      "cell_type": "markdown",
      "metadata": {
        "id": "T9gFIS1i8EIT",
        "colab_type": "text"
      },
      "source": [
        "### Experiment!\n",
        "\n",
        "Now you can experiment with different variables, plots or layouts! "
      ]
    },
    {
      "cell_type": "code",
      "metadata": {
        "id": "mWrpQHhu8DSP",
        "colab_type": "code",
        "colab": {}
      },
      "source": [
        ""
      ],
      "execution_count": 0,
      "outputs": []
    }
  ]
}
